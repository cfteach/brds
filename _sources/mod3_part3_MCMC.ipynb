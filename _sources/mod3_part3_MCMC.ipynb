{
 "cells": [
  {
   "cell_type": "markdown",
   "metadata": {
    "id": "DKT5bHZ0_ygw"
   },
   "source": [
    "# A (Super-)Gentle Introduction to Markov Chain Monte Carlo (MCMC) --- Part I"
   ]
  },
  {
   "cell_type": "markdown",
   "metadata": {
    "id": "qjIMeRM1_Cpj"
   },
   "source": [
    "**Notes**\n",
    "\n",
    "*   Throughout the notebook made use of hyperlinks to definitions (e.g., from wikipedia, textbooks, other courses, papers and blogs)\n",
    "*   Please always integrate with lecture notes and readings\n",
    "*   References: O. Martin, Bayesian Analysis with Python, 2018, Chap. 8 (BRDS course bibliography)[https://cfteach.github.io/brds/referencesmd.html]\n"
   ]
  },
  {
   "cell_type": "markdown",
   "metadata": {
    "id": "GI4A0zO8-Y6w"
   },
   "source": [
    "## Monte Carlo\n",
    "\n",
    "\"[Monte Carlo methods, or Monte Carlo experiments](https://en.wikipedia.org/wiki/Monte_Carlo_method), are a broad class of computational algorithms that rely on repeated random sampling to obtain numerical results. The underlying concept is to use randomness to solve problems that might be deterministic in principle.\" \n"
   ]
  },
  {
   "cell_type": "markdown",
   "metadata": {
    "id": "WbljnHb8-K5h"
   },
   "source": [
    "Simple example: calculate $\\pi$ with Monte Carlo methods"
   ]
  },
  {
   "cell_type": "code",
   "execution_count": 1,
   "metadata": {
    "id": "6PqbMpQL9zSv"
   },
   "outputs": [],
   "source": [
    "import numpy as np \n",
    "# generate uniformly random points within a square of radius 2R with R=1\n",
    "\n",
    "N = 5000 #points \n",
    "\n",
    "points = np.random.uniform(-1,1, (N,2))\n"
   ]
  },
  {
   "cell_type": "code",
   "execution_count": 2,
   "metadata": {
    "colab": {
     "base_uri": "https://localhost:8080/"
    },
    "id": "MnaQuxWt-eXz",
    "outputId": "619b5d3d-57a0-4af9-dba3-a94e9be590cf"
   },
   "outputs": [
    {
     "name": "stdout",
     "output_type": "stream",
     "text": [
      "3.196\n"
     ]
    }
   ],
   "source": [
    "inside = (np.sqrt(points[:, 0]**2+ points[:, 1]**2)<1)\n",
    "\n",
    "res = inside.sum()\n",
    "\n",
    "ratio = res / N \n",
    "\n",
    "approx_pi = 4*ratio \n",
    "\n",
    "print(approx_pi)"
   ]
  },
  {
   "cell_type": "code",
   "execution_count": 3,
   "metadata": {
    "id": "sNmrdScc-x0z"
   },
   "outputs": [],
   "source": [
    "import matplotlib.pyplot as plt\n",
    "\n"
   ]
  },
  {
   "cell_type": "code",
   "execution_count": 4,
   "metadata": {
    "colab": {
     "base_uri": "https://localhost:8080/",
     "height": 35
    },
    "id": "PQ8-plR4BJtY",
    "outputId": "cd838bfb-823f-4c56-9b89-291581b22fc8"
   },
   "outputs": [
    {
     "data": {
      "text/plain": [
       "<Figure size 864x864 with 0 Axes>"
      ]
     },
     "metadata": {},
     "output_type": "display_data"
    }
   ],
   "source": [
    "figure = plt.figure(figsize=(12,12))"
   ]
  },
  {
   "cell_type": "code",
   "execution_count": 5,
   "metadata": {
    "colab": {
     "base_uri": "https://localhost:8080/",
     "height": 283
    },
    "id": "gjGQ2bYrBMNd",
    "outputId": "96b1c435-b185-414d-c546-55d29f6ee258"
   },
   "outputs": [
    {
     "data": {
      "text/plain": [
       "(-1.25, 1.25)"
      ]
     },
     "execution_count": 5,
     "metadata": {},
     "output_type": "execute_result"
    },
    {
     "data": {
      "image/png": "[encoded data removed]",
      "text/plain": [
       "<Figure size 432x288 with 1 Axes>"
      ]
     },
     "metadata": {
      "needs_background": "light"
     },
     "output_type": "display_data"
    }
   ],
   "source": [
    "plt.plot(points[:,0],points[:,1],'o', color='blue')\n",
    "plt.plot(points[inside][:,0],points[inside][:,1],'o', color='red')\n",
    "\n",
    "plt.axis('equal')\n",
    "plt.xlim(-1.25,1.25)\n",
    "plt.ylim(-1.25,1.25)\n"
   ]
  },
  {
   "cell_type": "markdown",
   "metadata": {
    "id": "vJBtC8vuDjbs"
   },
   "source": [
    "## Markov Chain + Monte Carlo = MCMC \n",
    "\n",
    "\"A [Markov chain or Markov process](https://en.wikipedia.org/wiki/Markov_chain) is a stochastic model describing a sequence of possible events in which the probability of each event depends only on the state attained in the previous event. Informally, this may be thought of as, *'What happens next depends only on the state of affairs now'*.\"\n",
    "\n",
    "<img src=\"https://upload.wikimedia.org/wikipedia/commons/thumb/2/2b/Markovkate_01.svg/260px-Markovkate_01.svg.png\" alt=\"alternatetext\">\n",
    "\n",
    "\n",
    "*The defining characteristic of a Markov chain is that no matter how the process arrived at its present state, the possible future states are fixed. In other words, the probability of transitioning to any particular state is dependent solely on the current state and hence they are referred to a [\"Memoryless\"](https://wiki.ubc.ca/Course:CPSC522/Markov_Chains). Markov Chains can be modeled as a finite state machine that shows how a system transitions from one state to another and with what probability.*\n",
    "\n",
    "- The condition of **detailed balance** of a Markov chain says that we should move in a reversible way, meaning the probability of moving from state $i$ to state $j$ is the same of moving from state $j$ to state $i$. This condition is used as a guide to design our MCMC, see later.\n",
    "\n",
    "\n",
    "\"[Markov chain Monte Carlo (MCMC)](https://en.wikipedia.org/wiki/Markov_chain_Monte_Carlo) methods comprise a class of algorithms for sampling from a probability distribution. By constructing a Markov chain that has the desired distribution as its equilibrium distribution, one can obtain a sample of the desired distribution by recording states from the chain.\"\n",
    "\n",
    "- MCMC algorithms are all constructed to have a stationary distribution. However, we require extra conditions to ensure that they converge to such distribution. Please see concept of [ergodicity](https://projecteuclid.org/journals/annals-of-applied-probability/volume-16/issue-3/On-the-ergodicity-properties-of-some-adaptive-MCMC-algorithms/10.1214/105051606000000286.full), starting from a simpler definition [here](https://en.wikipedia.org/wiki/Ergodicity).\n",
    "\n",
    "\n"
   ]
  },
  {
   "cell_type": "markdown",
   "metadata": {
    "id": "3my4xlAAIGNh"
   },
   "source": [
    "When doing probabilistic programming through PyMC, we have been using sampling techniques without knowing it. We will focus on some of the details of these inference engines."
   ]
  },
  {
   "cell_type": "markdown",
   "metadata": {
    "id": "O0p7Y0-RMgoG"
   },
   "source": [
    "## Metropolis-Hastings Algorithm "
   ]
  },
  {
   "cell_type": "markdown",
   "metadata": {
    "id": "Wxn6YQmpMvaT"
   },
   "source": [
    "\n",
    "\n",
    "1.   Choose an initial value for the parameter $x_i$\n",
    "2.   Choose a new $x_{i+1}$ by sampling from an easy-to-sample PROPOSAL (aka TRIAL) DISTRIBUTION (dubbed $q$) that allow to do the transition from $q(x_{i+1}|x_{i})$. This is a sort of perturbation from the state $x_{i}$ to $x_{i+1}$\n",
    "3. Accept the new proposed state? The Metropolis-Hastings criterion is: \n",
    "\n",
    "\n",
    "$p(x_{i+1}|x_{i}) = min\\{1,\\frac{p(x_{i+1})q(x_{i}|x_{i+1})}{p(x_{i})q(x_{i+1}|x_{i})}\\}$\n",
    "\n",
    "4. If the probability of point 3 is larger than the value taken from a uniform distribution between [0,1], then accept the new state; otherwise, remain in the old state\n",
    "\n",
    "5. Iterate from step 2 until we have \"enough\" samples. \n",
    "\n",
    "    --- we will see later convergence criteria --- \n",
    "\n",
    "Notice that if $q(x_{i}|x_{i+1})=q(x_{i+1}|x_{i})$ (detailed balance) we get the Metropolis criterion (drop the Hastings part), and get: \n",
    "\n",
    "$p(x_{i+1}|x_{i}) = min\\{1,\\frac{p(x_{i+1})}{p(x_{i})}\\}$\n",
    "\n",
    "      take a minute to make sense of this formula \n",
    "\n"
   ]
  },
  {
   "cell_type": "code",
   "execution_count": 6,
   "metadata": {
    "id": "5Q24HKaDIFSR"
   },
   "outputs": [],
   "source": [
    "def metropolis(func, draws=10000):\n",
    "\n",
    "  trace = np.zeros(draws)\n",
    "  old_x = 0.5 #starting point \n",
    "  old_prob = func.pdf(old_x)\n",
    "\n",
    "  delta = np.random.normal(0,0.5,draws) #trial distribution \n",
    "\n",
    "  for i in range(draws):\n",
    "    new_x = old_x + delta[i]\n",
    "    new_prob = func.pdf(new_x) \n",
    "    acceptance = new_prob/old_prob\n",
    "\n",
    "    if(acceptance>np.random.uniform(0,1)):\n",
    "      trace[i] = new_x \n",
    "      old_x = new_x \n",
    "      old_prob = new_prob \n",
    "    else:\n",
    "      trace[i] = old_x # remain in the same state \n",
    "\n",
    "  return trace "
   ]
  },
  {
   "cell_type": "markdown",
   "metadata": {
    "id": "j93lLU1EPo1Q"
   },
   "source": [
    "Now another (very) simple problem. MCMC of a beta function (yes, we already know its pdf... if you are thinking 'what's the point?', we are just introducing the mechanism of the MCMC sampling with a concrete simple implementation). \n",
    "\n"
   ]
  },
  {
   "cell_type": "code",
   "execution_count": 7,
   "metadata": {
    "colab": {
     "base_uri": "https://localhost:8080/",
     "height": 297
    },
    "id": "SwZxEtheRoyC",
    "outputId": "3a3e4cd0-bf4a-4572-b358-0245dc37d23c"
   },
   "outputs": [
    {
     "name": "stderr",
     "output_type": "stream",
     "text": [
      "/var/folders/r2/_2532dgx683084s9v9ss0cfc0000gq/T/ipykernel_63916/3565162428.py:12: UserWarning: color is redundantly defined by the 'color' keyword argument and the fmt string \"C1\" (-> color=(1.0, 0.4980392156862745, 0.054901960784313725, 1.0)). The keyword argument will take precedence.\n",
      "  plt.plot(x,y,'C1',lw=3,label='True Distribution',color='red')\n"
     ]
    },
    {
     "data": {
      "text/plain": [
       "<matplotlib.legend.Legend at 0x12707bd30>"
      ]
     },
     "execution_count": 7,
     "metadata": {},
     "output_type": "execute_result"
    },
    {
     "data": {
      "image/png": "[encoded data removed]",
      "text/plain": [
       "<Figure size 432x288 with 1 Axes>"
      ]
     },
     "metadata": {
      "needs_background": "light"
     },
     "output_type": "display_data"
    }
   ],
   "source": [
    "import scipy.stats as stats\n",
    "\n",
    "np.random.seed(123)\n",
    "#--- results from mcmc \n",
    "func = stats.beta(2,5)\n",
    "trace = metropolis(func=func) \n",
    "#--- for plotting the true pdf for comparison \n",
    "x = np.linspace(0.01,0.99,100)\n",
    "y = func.pdf(x)\n",
    "#---\n",
    "plt.xlim(0,1)\n",
    "plt.plot(x,y,'C1',lw=3,label='True Distribution',color='red') \n",
    "plt.hist(trace[trace>0],bins=25, density=True, label='Estimated Distribution')\n",
    "plt.xlabel('x')\n",
    "plt.ylabel('pdf(x)')\n",
    "plt.yticks([])\n",
    "plt.legend()\n"
   ]
  },
  {
   "cell_type": "markdown",
   "metadata": {
    "id": "VYBy15GSR1-2"
   },
   "source": [
    "What is Bayesian in all this? \n",
    "Make connection to what we have done so far for inferential problems using PyMC. (Notes in class)"
   ]
  },
  {
   "cell_type": "markdown",
   "metadata": {
    "id": "d4_xz6UXS2py"
   },
   "source": [
    "After remembering this connection (real-world problems, not like the above), hopefully you are now fully appreciating the power of MCMC...  "
   ]
  },
  {
   "cell_type": "markdown",
   "metadata": {
    "id": "qEZ61D8xTa4S"
   },
   "source": [
    "p.s. please remember MCMC methods may take some time before they start getting samples from the target distribution -- burn-in period "
   ]
  },
  {
   "cell_type": "code",
   "execution_count": null,
   "metadata": {
    "id": "fd6VPYlYTH0K"
   },
   "outputs": [],
   "source": []
  }
 ],
 "metadata": {
  "colab": {
   "provenance": []
  },
  "kernelspec": {
   "display_name": "Python 3 (ipykernel)",
   "language": "python",
   "name": "python3"
  },
  "language_info": {
   "codemirror_mode": {
    "name": "ipython",
    "version": 3
   },
   "file_extension": ".py",
   "mimetype": "text/x-python",
   "name": "python",
   "nbconvert_exporter": "python",
   "pygments_lexer": "ipython3",
   "version": "3.9.6"
  }
 },
 "nbformat": 4,
 "nbformat_minor": 1
}
