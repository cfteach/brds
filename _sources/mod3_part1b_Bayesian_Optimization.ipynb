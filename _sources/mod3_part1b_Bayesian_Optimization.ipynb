{
 "cells": [
  {
   "cell_type": "markdown",
   "id": "a7a9e5b0",
   "metadata": {},
   "source": [
    "# Single Bayesian Optimization"
   ]
  },
  {
   "cell_type": "code",
   "execution_count": 1,
   "id": "af43def3",
   "metadata": {},
   "outputs": [],
   "source": [
    "#!pip install scikit-optimize\n",
    "#!pip install httpimport\n",
    "\n",
    "import numpy as np \n",
    "import matplotlib.pyplot as plt\n",
    "#from mod3_gen import *\n",
    "import httpimport\n",
    "\n",
    "url = 'https://raw.githubusercontent.com/cfteach/brds/main/other/mod3_gen.py'\n",
    "url2 = 'https://raw.githubusercontent.com/cfteach/brds/main/other/' \n",
    "#with httpimport.remote_repo(url):\n",
    "#    import mod3_gen\n",
    "module_object = httpimport.load('mod3_gen', url2)\n",
    "\n",
    "#load an unknown function... BO is agnostic to what is optimizing... \n",
    "f = module_object.beale\n",
    "print_fun = module_object.print_fun"
   ]
  },
  {
   "cell_type": "code",
   "execution_count": null,
   "id": "453d5241",
   "metadata": {},
   "outputs": [],
   "source": [
    "# uncomment these lines if you want to take a look at the unknown function \n",
    "#noise_level = 0.1\n",
    "#print_fun(f, noise_level=noise_level)\n",
    "\n"
   ]
  },
  {
   "cell_type": "code",
   "execution_count": 12,
   "id": "6b443a79",
   "metadata": {},
   "outputs": [],
   "source": [
    "from skopt import gp_minimize\n",
    "\n",
    "gp_res = gp_minimize(f,                  # the function to minimize\n",
    "                  [(-4.5, 4.5),(-4.5, 4.5)],      # the bounds on each dimension of x\n",
    "                  acq_func=\"gp_hedge\",      # the acquisition function\n",
    "                  n_calls=100,         # the number of evaluations of f\n",
    "                  n_random_starts=5,  # the number of random initialization points\n",
    "                  noise=0.**2,       # the noise level (optional)\n",
    "                  random_state=124)   # the random seed"
   ]
  },
  {
   "cell_type": "code",
   "execution_count": 13,
   "id": "f01c9f5c",
   "metadata": {},
   "outputs": [
    {
     "name": "stdout",
     "output_type": "stream",
     "text": [
      "[3.0094914834218818, 0.5030984761359134] 2.7571671564361196e-05\n"
     ]
    }
   ],
   "source": [
    "#\"x^*=%.4f, f(x^*)=%.4f\" % (res.x[0], res.fun)\n",
    "\n",
    "#print(res)\n",
    "\n",
    "print(gp_res.x, gp_res.fun)"
   ]
  },
  {
   "cell_type": "code",
   "execution_count": 14,
   "id": "ce06f141",
   "metadata": {},
   "outputs": [
    {
     "data": {
      "image/png": "[encoded data removed]",
      "text/plain": [
       "<Figure size 432x288 with 1 Axes>"
      ]
     },
     "metadata": {
      "needs_background": "light"
     },
     "output_type": "display_data"
    }
   ],
   "source": [
    "from skopt.plots import plot_convergence\n",
    "plot_convergence(gp_res);"
   ]
  },
  {
   "cell_type": "markdown",
   "id": "29ad6781",
   "metadata": {},
   "source": [
    "## Internal behavior of BO"
   ]
  },
  {
   "cell_type": "code",
   "execution_count": null,
   "id": "e794964c",
   "metadata": {},
   "outputs": [],
   "source": [
    "from skopt.plots import plot_gaussian_process\n",
    "\n",
    "plt.rcParams[\"figure.figsize\"] = (8, 14)\n",
    "\n",
    "\n",
    "def f_wo_noise(x):\n",
    "    return f(x, noise_level=0)"
   ]
  },
  {
   "cell_type": "code",
   "execution_count": null,
   "id": "d10a5816",
   "metadata": {},
   "outputs": [],
   "source": [
    "for n_iter in range(5):\n",
    "    # Plot true function.\n",
    "    plt.subplot(5, 2, 2*n_iter+1)\n",
    "\n",
    "    if n_iter == 0:\n",
    "        show_legend = True\n",
    "    else:\n",
    "        show_legend = False\n",
    "\n",
    "    ax = plot_gaussian_process(gp_res, n_calls=n_iter,\n",
    "                               objective=f_wo_noise,\n",
    "                               noise_level=noise_level,\n",
    "                               show_legend=show_legend, show_title=False,\n",
    "                               show_next_point=False, show_acq_func=False)\n",
    "    ax.set_ylabel(\"\")\n",
    "    ax.set_xlabel(\"\")\n",
    "    # Plot EI(x)\n",
    "    plt.subplot(5, 2, 2*n_iter+2)\n",
    "    ax = plot_gaussian_process(gp_res, n_calls=n_iter,\n",
    "                               show_legend=show_legend, show_title=False,\n",
    "                               show_mu=False, show_acq_func=True,\n",
    "                               show_observations=False,\n",
    "                               show_next_point=True)\n",
    "    ax.set_ylabel(\"\")\n",
    "    ax.set_xlabel(\"\")\n",
    "\n",
    "plt.show()"
   ]
  },
  {
   "cell_type": "markdown",
   "id": "536aea3c",
   "metadata": {},
   "source": [
    "## Compare to Random Search"
   ]
  },
  {
   "cell_type": "code",
   "execution_count": null,
   "id": "590757fb",
   "metadata": {},
   "outputs": [],
   "source": [
    "from skopt import dummy_minimize\n",
    "\n",
    "dummy_res = dummy_minimize(f,                  # the function to minimize\n",
    "                  [(-2.0, 2.0)],      # the bounds on each dimension of x\n",
    "                  n_calls=25,         # the number of evaluations of f\n",
    "                  random_state=1234)   # the random seed"
   ]
  },
  {
   "cell_type": "code",
   "execution_count": null,
   "id": "6f9b2596",
   "metadata": {},
   "outputs": [],
   "source": [
    "from skopt.plots import plot_convergence\n",
    "\n",
    "plot = plot_convergence((\"dummy_minimize\", dummy_res),\n",
    "                        (\"gp_minimize\", gp_res))\n",
    "                        #,true_minimum=0.397887)#, yscale=\"log\")\n",
    "\n",
    "plot.legend(loc=\"best\", prop={'size': 6}, numpoints=1)"
   ]
  },
  {
   "cell_type": "code",
   "execution_count": null,
   "id": "cf59d03a",
   "metadata": {},
   "outputs": [],
   "source": []
  }
 ],
 "metadata": {
  "kernelspec": {
   "display_name": "jupynb_env_new",
   "language": "python",
   "name": "jupynb_env_new"
  },
  "language_info": {
   "codemirror_mode": {
    "name": "ipython",
    "version": 3
   },
   "file_extension": ".py",
   "mimetype": "text/x-python",
   "name": "python",
   "nbconvert_exporter": "python",
   "pygments_lexer": "ipython3",
   "version": "3.9.6"
  }
 },
 "nbformat": 4,
 "nbformat_minor": 5
}
