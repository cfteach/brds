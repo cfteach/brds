{
 "cells": [
  {
   "cell_type": "markdown",
   "metadata": {
    "id": "zsiDSr4bT0Rh"
   },
   "source": [
    "# Bayesian A/B Testing"
   ]
  },
  {
   "cell_type": "code",
   "execution_count": 2,
   "metadata": {
    "colab": {
     "base_uri": "https://localhost:8080/"
    },
    "id": "f8cRThZpTwLL",
    "outputId": "68d57f97-2788-4fb8-8c67-0ca0b8755b1c"
   },
   "outputs": [
    {
     "name": "stdout",
     "output_type": "stream",
     "text": [
      "Looking in indexes: https://pypi.org/simple, https://us-python.pkg.dev/colab-wheels/public/simple/\n",
      "Requirement already satisfied: pymc3 in /usr/local/lib/python3.7/dist-packages (3.11.5)\n",
      "Requirement already satisfied: semver>=2.13.0 in /usr/local/lib/python3.7/dist-packages (from pymc3) (2.13.0)\n",
      "Requirement already satisfied: scipy<1.8.0,>=1.7.3 in /usr/local/lib/python3.7/dist-packages (from pymc3) (1.7.3)\n",
      "Requirement already satisfied: dill in /usr/local/lib/python3.7/dist-packages (from pymc3) (0.3.6)\n",
      "Requirement already satisfied: numpy<1.22.2,>=1.15.0 in /usr/local/lib/python3.7/dist-packages (from pymc3) (1.21.6)\n",
      "Requirement already satisfied: pandas>=0.24.0 in /usr/local/lib/python3.7/dist-packages (from pymc3) (1.3.5)\n",
      "Requirement already satisfied: fastprogress>=0.2.0 in /usr/local/lib/python3.7/dist-packages (from pymc3) (1.0.3)\n",
      "Requirement already satisfied: patsy>=0.5.1 in /usr/local/lib/python3.7/dist-packages (from pymc3) (0.5.3)\n",
      "Requirement already satisfied: typing-extensions>=3.7.4 in /usr/local/lib/python3.7/dist-packages (from pymc3) (4.1.1)\n",
      "Requirement already satisfied: theano-pymc==1.1.2 in /usr/local/lib/python3.7/dist-packages (from pymc3) (1.1.2)\n",
      "Requirement already satisfied: arviz>=0.11.0 in /usr/local/lib/python3.7/dist-packages (from pymc3) (0.12.1)\n",
      "Requirement already satisfied: deprecat in /usr/local/lib/python3.7/dist-packages (from pymc3) (2.1.1)\n",
      "Requirement already satisfied: cachetools>=4.2.1 in /usr/local/lib/python3.7/dist-packages (from pymc3) (5.2.0)\n",
      "Requirement already satisfied: filelock in /usr/local/lib/python3.7/dist-packages (from theano-pymc==1.1.2->pymc3) (3.8.0)\n",
      "Requirement already satisfied: matplotlib>=3.0 in /usr/local/lib/python3.7/dist-packages (from arviz>=0.11.0->pymc3) (3.2.2)\n",
      "Requirement already satisfied: setuptools>=38.4 in /usr/local/lib/python3.7/dist-packages (from arviz>=0.11.0->pymc3) (57.4.0)\n",
      "Requirement already satisfied: xarray-einstats>=0.2 in /usr/local/lib/python3.7/dist-packages (from arviz>=0.11.0->pymc3) (0.2.2)\n",
      "Requirement already satisfied: xarray>=0.16.1 in /usr/local/lib/python3.7/dist-packages (from arviz>=0.11.0->pymc3) (0.20.2)\n",
      "Requirement already satisfied: netcdf4 in /usr/local/lib/python3.7/dist-packages (from arviz>=0.11.0->pymc3) (1.6.2)\n",
      "Requirement already satisfied: packaging in /usr/local/lib/python3.7/dist-packages (from arviz>=0.11.0->pymc3) (21.3)\n",
      "Requirement already satisfied: cycler>=0.10 in /usr/local/lib/python3.7/dist-packages (from matplotlib>=3.0->arviz>=0.11.0->pymc3) (0.11.0)\n",
      "Requirement already satisfied: python-dateutil>=2.1 in /usr/local/lib/python3.7/dist-packages (from matplotlib>=3.0->arviz>=0.11.0->pymc3) (2.8.2)\n",
      "Requirement already satisfied: pyparsing!=2.0.4,!=2.1.2,!=2.1.6,>=2.0.1 in /usr/local/lib/python3.7/dist-packages (from matplotlib>=3.0->arviz>=0.11.0->pymc3) (3.0.9)\n",
      "Requirement already satisfied: kiwisolver>=1.0.1 in /usr/local/lib/python3.7/dist-packages (from matplotlib>=3.0->arviz>=0.11.0->pymc3) (1.4.4)\n",
      "Requirement already satisfied: pytz>=2017.3 in /usr/local/lib/python3.7/dist-packages (from pandas>=0.24.0->pymc3) (2022.6)\n",
      "Requirement already satisfied: six in /usr/local/lib/python3.7/dist-packages (from patsy>=0.5.1->pymc3) (1.15.0)\n",
      "Requirement already satisfied: importlib-metadata in /usr/local/lib/python3.7/dist-packages (from xarray>=0.16.1->arviz>=0.11.0->pymc3) (4.13.0)\n",
      "Requirement already satisfied: wrapt<2,>=1.10 in /usr/local/lib/python3.7/dist-packages (from deprecat->pymc3) (1.14.1)\n",
      "Requirement already satisfied: zipp>=0.5 in /usr/local/lib/python3.7/dist-packages (from importlib-metadata->xarray>=0.16.1->arviz>=0.11.0->pymc3) (3.10.0)\n",
      "Requirement already satisfied: cftime in /usr/local/lib/python3.7/dist-packages (from netcdf4->arviz>=0.11.0->pymc3) (1.6.2)\n"
     ]
    }
   ],
   "source": [
    "!pip install pymc3"
   ]
  },
  {
   "cell_type": "markdown",
   "metadata": {
    "id": "JNZvk43DUAcN"
   },
   "source": [
    "Ref.: **C. Davidson-Pilon, Bayesian methods for hackers, 2015**\n",
    "\n",
    "**Problem:**\n",
    "Front-end web developers are interested in which design of their website yields more sales or some other metric of interest create a dataset; they will route some fraction of visitors to site A, and the other fraction to site B, and record if the visit yielded a sale or not. The data is recorded in real-time, and analyzed afterwards.\n",
    "\n"
   ]
  },
  {
   "cell_type": "code",
   "execution_count": 3,
   "metadata": {
    "id": "WtLxjQ70T7IE"
   },
   "outputs": [],
   "source": [
    "import pymc3 as pm\n",
    "from scipy import stats \n",
    "import numpy as np\n",
    "import matplotlib.pyplot as plt"
   ]
  },
  {
   "cell_type": "code",
   "execution_count": 4,
   "metadata": {
    "colab": {
     "base_uri": "https://localhost:8080/"
    },
    "id": "WVje8onAWOfE",
    "outputId": "2d568390-c02c-4655-c067-b52fc226116f"
   },
   "outputs": [
    {
     "name": "stdout",
     "output_type": "stream",
     "text": [
      "Obs from Site A:  [0 0 0 0 1 0 0 0 0 0 1 0 0 1 0 0 0 0 0 0 0 0 0 0 0 0 0 0 0 0] ...\n",
      "Obs from Site B:  [1 0 0 0 0 0 0 0 0 0 0 0 0 0 0 0 0 0 0 0 0 0 0 0 0 1 1 0 0 0] ...\n"
     ]
    }
   ],
   "source": [
    "# generate our dataset \n",
    "\n",
    "#these two quantities are unknown to us.\n",
    "true_p_A = 0.05\n",
    "true_p_B = 0.04\n",
    "\n",
    "#notice the unequal sample sizes -- no problem in Bayesian analysis.\n",
    "N_A = 1500\n",
    "N_B = 750\n",
    "\n",
    "#generate some observations\n",
    "observations_A = stats.bernoulli.rvs(true_p_A, size = N_A)\n",
    "observations_B = stats.bernoulli.rvs(true_p_B, size = N_B)\n",
    "print(\"Obs from Site A: \", observations_A[:30], \"...\")\n",
    "print(\"Obs from Site B: \", observations_B[:30], \"...\")"
   ]
  },
  {
   "cell_type": "markdown",
   "metadata": {
    "id": "AkiI9_LiWlF8"
   },
   "source": [
    "**Goal**: in comparing design A with design B, we want to determine if one of the two is significantly better than the other. \n",
    "\n",
    "Let's set up a odel with pymc\n"
   ]
  },
  {
   "cell_type": "code",
   "execution_count": 5,
   "metadata": {
    "colab": {
     "base_uri": "https://localhost:8080/",
     "height": 111
    },
    "id": "3fUsBo24WgPZ",
    "outputId": "0d71a13d-00ba-4c07-e655-3ce471562068"
   },
   "outputs": [
    {
     "name": "stderr",
     "output_type": "stream",
     "text": [
      "/usr/local/lib/python3.7/dist-packages/deprecat/classic.py:215: FutureWarning: In v4.0, pm.sample will return an `arviz.InferenceData` object instead of a `MultiTrace` by default. You can pass return_inferencedata=True or return_inferencedata=False to be safe and silence this warning.\n",
      "  return wrapped_(*args_, **kwargs_)\n"
     ]
    },
    {
     "data": {
      "text/html": [
       "\n",
       "<style>\n",
       "    /* Turns off some styling */\n",
       "    progress {\n",
       "        /* gets rid of default border in Firefox and Opera. */\n",
       "        border: none;\n",
       "        /* Needs to be in here for Safari polyfill so background images work as expected. */\n",
       "        background-size: auto;\n",
       "    }\n",
       "    progress:not([value]), progress:not([value])::-webkit-progress-bar {\n",
       "        background: repeating-linear-gradient(45deg, #7e7e7e, #7e7e7e 10px, #5c5c5c 10px, #5c5c5c 20px);\n",
       "    }\n",
       "    .progress-bar-interrupted, .progress-bar-interrupted::-webkit-progress-bar {\n",
       "        background: #F44336;\n",
       "    }\n",
       "</style>\n"
      ],
      "text/plain": [
       "<IPython.core.display.HTML object>"
      ]
     },
     "metadata": {},
     "output_type": "display_data"
    },
    {
     "data": {
      "text/html": [
       "\n",
       "    <div>\n",
       "      <progress value='21000' class='' max='21000' style='width:300px; height:20px; vertical-align: middle;'></progress>\n",
       "      100.00% [21000/21000 00:17&lt;00:00 Sampling chain 0, 0 divergences]\n",
       "    </div>\n",
       "    "
      ],
      "text/plain": [
       "<IPython.core.display.HTML object>"
      ]
     },
     "metadata": {},
     "output_type": "display_data"
    },
    {
     "data": {
      "text/html": [
       "\n",
       "<style>\n",
       "    /* Turns off some styling */\n",
       "    progress {\n",
       "        /* gets rid of default border in Firefox and Opera. */\n",
       "        border: none;\n",
       "        /* Needs to be in here for Safari polyfill so background images work as expected. */\n",
       "        background-size: auto;\n",
       "    }\n",
       "    progress:not([value]), progress:not([value])::-webkit-progress-bar {\n",
       "        background: repeating-linear-gradient(45deg, #7e7e7e, #7e7e7e 10px, #5c5c5c 10px, #5c5c5c 20px);\n",
       "    }\n",
       "    .progress-bar-interrupted, .progress-bar-interrupted::-webkit-progress-bar {\n",
       "        background: #F44336;\n",
       "    }\n",
       "</style>\n"
      ],
      "text/plain": [
       "<IPython.core.display.HTML object>"
      ]
     },
     "metadata": {},
     "output_type": "display_data"
    },
    {
     "data": {
      "text/html": [
       "\n",
       "    <div>\n",
       "      <progress value='21000' class='' max='21000' style='width:300px; height:20px; vertical-align: middle;'></progress>\n",
       "      100.00% [21000/21000 00:08&lt;00:00 Sampling chain 1, 0 divergences]\n",
       "    </div>\n",
       "    "
      ],
      "text/plain": [
       "<IPython.core.display.HTML object>"
      ]
     },
     "metadata": {},
     "output_type": "display_data"
    }
   ],
   "source": [
    "# Set up the pymc3 model. Again assume Uniform priors for p_A and p_B.\n",
    "with pm.Model() as model_all:\n",
    "    p_A = pm.Uniform(\"p_A\", 0, 1)\n",
    "    p_B = pm.Uniform(\"p_B\", 0, 1)\n",
    "    \n",
    "    # Define the deterministic delta function. This is our unknown of interest.\n",
    "    delta = pm.Deterministic(\"delta\", p_A - p_B)\n",
    "\n",
    "    \n",
    "    # Set of observations, in this case we have two observation datasets.\n",
    "    obs_A = pm.Bernoulli(\"obs_A\", p_A, observed=observations_A)\n",
    "    obs_B = pm.Bernoulli(\"obs_B\", p_B, observed=observations_B)\n",
    "\n",
    "    step = pm.Metropolis() #we will see more next week\n",
    "    trace = pm.sample(20000, step=step)\n",
    "    burned_trace=trace[1000:] #<----- select after burn-in of 1000 samples"
   ]
  },
  {
   "cell_type": "code",
   "execution_count": 6,
   "metadata": {
    "id": "obWkRtzXXDcx"
   },
   "outputs": [],
   "source": [
    "# compute posteriors on inferred parameters\n",
    "post_p_A = burned_trace[\"p_A\"]\n",
    "post_p_B = burned_trace[\"p_B\"]\n",
    "post_delta = burned_trace[\"delta\"]"
   ]
  },
  {
   "cell_type": "code",
   "execution_count": 7,
   "metadata": {
    "colab": {
     "base_uri": "https://localhost:8080/",
     "height": 626
    },
    "id": "yO3ZVAb0XZLJ",
    "outputId": "e6f859eb-73ba-49c3-b955-9017063bbdbe"
   },
   "outputs": [
    {
     "data": {
      "text/plain": [
       "<matplotlib.legend.Legend at 0x7fe98cfef090>"
      ]
     },
     "execution_count": 7,
     "metadata": {},
     "output_type": "execute_result"
    },
    {
     "data": {
      "image/png": "[encoded data removed]",
      "text/plain": [
       "<Figure size 900x720 with 3 Axes>"
      ]
     },
     "metadata": {
      "needs_background": "light"
     },
     "output_type": "display_data"
    }
   ],
   "source": [
    "plt.figure(figsize=(12.5, 10))\n",
    "\n",
    "#histogram of posteriors\n",
    "\n",
    "ax = plt.subplot(311)\n",
    "\n",
    "plt.xlim(0, .1)\n",
    "plt.hist(post_p_A, histtype='stepfilled', bins=25, alpha=0.85,\n",
    "         label=\"posterior of $p_A$\", color=\"#A60628\", density=True)\n",
    "plt.vlines(true_p_A, 0, 80, linestyle=\"--\", label=\"true $p_A$ (unknown)\")\n",
    "plt.legend(loc=\"upper right\")\n",
    "plt.title(\"Posterior distributions of $p_A$, $p_B$, and delta unknowns\")\n",
    "\n",
    "ax = plt.subplot(312)\n",
    "\n",
    "plt.xlim(0, .1)\n",
    "plt.hist(post_p_B, histtype='stepfilled', bins=25, alpha=0.85,\n",
    "         label=\"posterior of $p_B$\", color=\"#467821\", density=True)\n",
    "plt.vlines(true_p_B, 0, 80, linestyle=\"--\", label=\"true $p_B$ (unknown)\")\n",
    "plt.legend(loc=\"upper right\")\n",
    "\n",
    "ax = plt.subplot(313)\n",
    "plt.hist(post_delta, histtype='stepfilled', bins=30, alpha=0.85,\n",
    "         label=\"posterior of delta\", color=\"#7A68A6\", density=True)\n",
    "plt.vlines(true_p_A - true_p_B, 0, 60, linestyle=\"--\",\n",
    "           label=\"true delta (unknown)\")\n",
    "plt.vlines(0, 0, 60, color=\"black\", alpha=0.2)\n",
    "plt.legend(loc=\"upper right\")"
   ]
  },
  {
   "cell_type": "markdown",
   "metadata": {
    "id": "UV_jtTBDfGqz"
   },
   "source": [
    "## Metrics"
   ]
  },
  {
   "cell_type": "code",
   "execution_count": 40,
   "metadata": {
    "colab": {
     "base_uri": "https://localhost:8080/"
    },
    "id": "GIdpz3ccYWcQ",
    "outputId": "224ea563-6e39-446f-c39f-d9995fbf439f"
   },
   "outputs": [
    {
     "name": "stdout",
     "output_type": "stream",
     "text": [
      "probability that site A is worse than B:  0.44144736842105264\n",
      "probability that site A is better than B:  0.5585526315789474\n"
     ]
    }
   ],
   "source": [
    "# probability that site A is worse than B\n",
    "print(\"probability that site A is worse than B: \", np.mean(post_delta<0))\n",
    "# probability that site A is better than B\n",
    "print(\"probability that site A is better than B: \", np.mean(post_delta>0))\n"
   ]
  },
  {
   "cell_type": "code",
   "execution_count": 41,
   "metadata": {
    "colab": {
     "base_uri": "https://localhost:8080/"
    },
    "id": "YXnJQrjFfA2i",
    "outputId": "4968a94f-aa07-42cf-ed9f-d2a5203203ff"
   },
   "outputs": [
    {
     "name": "stdout",
     "output_type": "stream",
     "text": [
      "treatment lift:  -0.01232126175807949\n"
     ]
    }
   ],
   "source": [
    "#treatment lift\n",
    "print(\"treatment lift: \", np.mean((post_p_B-post_p_A)/post_p_A))\n"
   ]
  },
  {
   "cell_type": "code",
   "execution_count": 44,
   "metadata": {
    "colab": {
     "base_uri": "https://localhost:8080/"
    },
    "id": "bKgc9NUrgDb5",
    "outputId": "526fb33e-1c16-437b-d1f8-fdc9b49ae2bf"
   },
   "outputs": [
    {
     "name": "stdout",
     "output_type": "stream",
     "text": [
      "loss:  0.049904685151315624\n"
     ]
    }
   ],
   "source": [
    "#loss\n",
    "print(\"loss: \", np.mean(np.max(post_p_B-post_p_A,0)))"
   ]
  }
 ],
 "metadata": {
  "colab": {
   "provenance": []
  },
  "kernelspec": {
   "display_name": "Python 3 (ipykernel)",
   "language": "python",
   "name": "python3"
  },
  "language_info": {
   "codemirror_mode": {
    "name": "ipython",
    "version": 3
   },
   "file_extension": ".py",
   "mimetype": "text/x-python",
   "name": "python",
   "nbconvert_exporter": "python",
   "pygments_lexer": "ipython3",
   "version": "3.9.6"
  }
 },
 "nbformat": 4,
 "nbformat_minor": 1
}
