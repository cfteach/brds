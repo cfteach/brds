{
 "cells": [
  {
   "cell_type": "markdown",
   "id": "e9b462e4",
   "metadata": {},
   "source": [
    "# Generalization to Bayesian Softmax Regression"
   ]
  },
  {
   "cell_type": "markdown",
   "id": "8510f432",
   "metadata": {},
   "source": [
    "Ref: Chap 4 of Mar18\n",
    "\n",
    "https://cfteach.github.io/brds/referencesmd.html"
   ]
  },
  {
   "cell_type": "code",
   "execution_count": 2,
   "id": "5015e78e",
   "metadata": {},
   "outputs": [],
   "source": [
    "import pymc3 as pm\n",
    "import numpy as np\n",
    "import pandas as pd\n",
    "import theano.tensor as tt\n",
    "import seaborn as sns\n",
    "import scipy.stats as stats\n",
    "from scipy.special import expit as logistic\n",
    "import matplotlib.pyplot as plt\n",
    "import arviz as az\n",
    "import requests\n",
    "import io "
   ]
  },
  {
   "cell_type": "code",
   "execution_count": 3,
   "id": "6c2e3cbf",
   "metadata": {},
   "outputs": [],
   "source": [
    "az.style.use('arviz-darkgrid')"
   ]
  },
  {
   "cell_type": "code",
   "execution_count": 4,
   "id": "224771aa",
   "metadata": {},
   "outputs": [
    {
     "data": {
      "text/html": [
       "<div>\n",
       "<style scoped>\n",
       "    .dataframe tbody tr th:only-of-type {\n",
       "        vertical-align: middle;\n",
       "    }\n",
       "\n",
       "    .dataframe tbody tr th {\n",
       "        vertical-align: top;\n",
       "    }\n",
       "\n",
       "    .dataframe thead th {\n",
       "        text-align: right;\n",
       "    }\n",
       "</style>\n",
       "<table border=\"1\" class=\"dataframe\">\n",
       "  <thead>\n",
       "    <tr style=\"text-align: right;\">\n",
       "      <th></th>\n",
       "      <th>sepal_length</th>\n",
       "      <th>sepal_width</th>\n",
       "      <th>petal_length</th>\n",
       "      <th>petal_width</th>\n",
       "      <th>species</th>\n",
       "    </tr>\n",
       "  </thead>\n",
       "  <tbody>\n",
       "    <tr>\n",
       "      <th>0</th>\n",
       "      <td>5.1</td>\n",
       "      <td>3.5</td>\n",
       "      <td>1.4</td>\n",
       "      <td>0.2</td>\n",
       "      <td>setosa</td>\n",
       "    </tr>\n",
       "    <tr>\n",
       "      <th>1</th>\n",
       "      <td>4.9</td>\n",
       "      <td>3.0</td>\n",
       "      <td>1.4</td>\n",
       "      <td>0.2</td>\n",
       "      <td>setosa</td>\n",
       "    </tr>\n",
       "    <tr>\n",
       "      <th>2</th>\n",
       "      <td>4.7</td>\n",
       "      <td>3.2</td>\n",
       "      <td>1.3</td>\n",
       "      <td>0.2</td>\n",
       "      <td>setosa</td>\n",
       "    </tr>\n",
       "    <tr>\n",
       "      <th>3</th>\n",
       "      <td>4.6</td>\n",
       "      <td>3.1</td>\n",
       "      <td>1.5</td>\n",
       "      <td>0.2</td>\n",
       "      <td>setosa</td>\n",
       "    </tr>\n",
       "    <tr>\n",
       "      <th>4</th>\n",
       "      <td>5.0</td>\n",
       "      <td>3.6</td>\n",
       "      <td>1.4</td>\n",
       "      <td>0.2</td>\n",
       "      <td>setosa</td>\n",
       "    </tr>\n",
       "  </tbody>\n",
       "</table>\n",
       "</div>"
      ],
      "text/plain": [
       "   sepal_length  sepal_width  petal_length  petal_width species\n",
       "0           5.1          3.5           1.4          0.2  setosa\n",
       "1           4.9          3.0           1.4          0.2  setosa\n",
       "2           4.7          3.2           1.3          0.2  setosa\n",
       "3           4.6          3.1           1.5          0.2  setosa\n",
       "4           5.0          3.6           1.4          0.2  setosa"
      ]
     },
     "execution_count": 4,
     "metadata": {},
     "output_type": "execute_result"
    }
   ],
   "source": [
    "target_url = 'https://raw.githubusercontent.com/cfteach/brds/main/datasets/iris.csv' \n",
    "\n",
    "download = requests.get(target_url).content\n",
    "iris = pd.read_csv(io.StringIO(download.decode('utf-8')))\n",
    "\n",
    "iris.head()"
   ]
  },
  {
   "cell_type": "markdown",
   "id": "4f145d8b",
   "metadata": {},
   "source": [
    "## Recipe 1: Dealing with correlated data"
   ]
  },
  {
   "cell_type": "code",
   "execution_count": 5,
   "id": "a3e9f488",
   "metadata": {},
   "outputs": [
    {
     "name": "stderr",
     "output_type": "stream",
     "text": [
      "/var/folders/r2/_2532dgx683084s9v9ss0cfc0000gq/T/ipykernel_21894/3442237557.py:1: FutureWarning: The default value of numeric_only in DataFrame.corr is deprecated. In a future version, it will default to False. Select only valid columns or specify the value of numeric_only to silence this warning.\n",
      "  corr = iris[iris['species'] != 'virginica'].corr()\n"
     ]
    },
    {
     "data": {
      "text/plain": [
       "[Text(0, 0.5, 'sepal_length'),\n",
       " Text(0, 1.5, 'sepal_width'),\n",
       " Text(0, 2.5, 'petal_length'),\n",
       " Text(0, 3.5, 'petal_width')]"
      ]
     },
     "execution_count": 5,
     "metadata": {},
     "output_type": "execute_result"
    },
    {
     "data": {
      "image/png": "[encoded data removed]",
      "text/plain": [
       "<Figure size 432x288 with 2 Axes>"
      ]
     },
     "metadata": {
      "needs_background": "light"
     },
     "output_type": "display_data"
    }
   ],
   "source": [
    "corr = iris[iris['species'] != 'virginica'].corr() \n",
    "mask = np.tri(*corr.shape).T \n",
    "g = sns.heatmap(corr.abs(), mask=mask, annot=True, cmap='viridis')\n",
    "g.set_xticklabels(g.get_yticklabels(), rotation = 90, fontsize = 14)\n",
    "g.set_yticklabels(g.get_yticklabels(), rotation = 0, fontsize = 14)\n",
    "\n"
   ]
  },
  {
   "cell_type": "markdown",
   "id": "a6144913",
   "metadata": {},
   "source": [
    "<div class=\"alert alert-block alert-info\" style=\"background-color: white; border: 2px solid; padding: 10px\">\n",
    "    <b><i class=\"fa fa-info-circle\" aria-hidden=\"true\"></i>&nbsp; Notes</b><br>\n",
    "    <p style=\"color: black\">\n",
    "        (i) Correlated data has typically less power to restrict the model; correlated variables translate into wider combinations of coefficients that are able to explain the data.\n",
    "    </p>\n",
    "    <p  style=\"color: black\">\n",
    "       (ii) One solution when dealing with highly correlated variables is to remove one (or more than one) correlated variable.\n",
    "    </p>\n",
    "    <p  style=\"color: black\">\n",
    "        (iii) Another option is scaling all non-binary variables to have a mean of 0, and then using:\n",
    "    </p>    \n",
    "    <center>\n",
    "        $\\beta \\sim StudentT(0,\\nu,sd)$\n",
    "    </center>\n",
    "    <p  style=\"color: black\">\n",
    "    $sd$ should be chosen to weekly inform us about the expected value for the scale. The normality parameter $\\nu$ is typically chosen to be in the range (3,7). \n",
    "    <b> This prior is saying that in general we expect the coefficienct to be small, but we use wide tails because occasionally we will find some larger coefficients.\n",
    "    </b>\n",
    "    </p>\n",
    "\n",
    "</div>\n"
   ]
  },
  {
   "cell_type": "markdown",
   "id": "91fa75de",
   "metadata": {},
   "source": [
    "$\\beta \\sim StudentT(0,\\nu,sd)$\n"
   ]
  },
  {
   "cell_type": "markdown",
   "id": "3907e55c",
   "metadata": {},
   "source": [
    "## Recipe 2: Dealing with unbalanced classes"
   ]
  },
  {
   "cell_type": "code",
   "execution_count": 6,
   "id": "f65d95c8",
   "metadata": {},
   "outputs": [
    {
     "name": "stdout",
     "output_type": "stream",
     "text": [
      "[0 0 0 0 0 1 1 1 1 1 1 1 1 1 1 1 1 1 1 1 1 1 1 1 1 1 1 1 1 1 1 1 1 1 1 1 1\n",
      " 1 1 1 1 1 1 1 1 1 1 1 1 1 1 1 1 1 1]\n"
     ]
    }
   ],
   "source": [
    "df = iris.query(\"species == ('setosa', 'versicolor')\") \n",
    "df = df[45:]   # let's select two unbalanced classes\n",
    "y_3 = pd.Categorical(df['species']).codes \n",
    "x_n = ['sepal_length', 'sepal_width'] \n",
    "x_3 = df[x_n].values\n",
    "\n",
    "print(y_3) #this is why is unbalanced"
   ]
  },
  {
   "cell_type": "markdown",
   "id": "c25dc3ba",
   "metadata": {},
   "source": [
    "Doing the usual thing: build the logistic regression..."
   ]
  },
  {
   "cell_type": "code",
   "execution_count": 23,
   "id": "987cf733",
   "metadata": {},
   "outputs": [
    {
     "name": "stderr",
     "output_type": "stream",
     "text": [
      "/Users/cfanelli/Desktop/teaching/BRDS/jupynb_env_new/lib/python3.9/site-packages/deprecat/classic.py:215: FutureWarning: In v4.0, pm.sample will return an `arviz.InferenceData` object instead of a `MultiTrace` by default. You can pass return_inferencedata=True or return_inferencedata=False to be safe and silence this warning.\n",
      "  return wrapped_(*args_, **kwargs_)\n",
      "Auto-assigning NUTS sampler...\n",
      "Initializing NUTS using jitter+adapt_diag...\n",
      "Multiprocess sampling (4 chains in 4 jobs)\n",
      "NUTS: [β, α]\n"
     ]
    },
    {
     "data": {
      "text/html": [
       "\n",
       "<style>\n",
       "    /* Turns off some styling */\n",
       "    progress {\n",
       "        /* gets rid of default border in Firefox and Opera. */\n",
       "        border: none;\n",
       "        /* Needs to be in here for Safari polyfill so background images work as expected. */\n",
       "        background-size: auto;\n",
       "    }\n",
       "    progress:not([value]), progress:not([value])::-webkit-progress-bar {\n",
       "        background: repeating-linear-gradient(45deg, #7e7e7e, #7e7e7e 10px, #5c5c5c 10px, #5c5c5c 20px);\n",
       "    }\n",
       "    .progress-bar-interrupted, .progress-bar-interrupted::-webkit-progress-bar {\n",
       "        background: #F44336;\n",
       "    }\n",
       "</style>\n"
      ],
      "text/plain": [
       "<IPython.core.display.HTML object>"
      ]
     },
     "metadata": {},
     "output_type": "display_data"
    },
    {
     "data": {
      "text/html": [
       "\n",
       "    <div>\n",
       "      <progress value='8000' class='' max='8000' style='width:300px; height:20px; vertical-align: middle;'></progress>\n",
       "      100.00% [8000/8000 00:04&lt;00:00 Sampling 4 chains, 0 divergences]\n",
       "    </div>\n",
       "    "
      ],
      "text/plain": [
       "<IPython.core.display.HTML object>"
      ]
     },
     "metadata": {},
     "output_type": "display_data"
    },
    {
     "name": "stderr",
     "output_type": "stream",
     "text": [
      "/Users/cfanelli/Desktop/teaching/BRDS/jupynb_env_new/lib/python3.9/site-packages/scipy/stats/_continuous_distns.py:624: RuntimeWarning: overflow encountered in _beta_ppf\n",
      "  return _boost._beta_ppf(q, a, b)\n",
      "/Users/cfanelli/Desktop/teaching/BRDS/jupynb_env_new/lib/python3.9/site-packages/scipy/stats/_continuous_distns.py:624: RuntimeWarning: overflow encountered in _beta_ppf\n",
      "  return _boost._beta_ppf(q, a, b)\n",
      "/Users/cfanelli/Desktop/teaching/BRDS/jupynb_env_new/lib/python3.9/site-packages/scipy/stats/_continuous_distns.py:624: RuntimeWarning: overflow encountered in _beta_ppf\n",
      "  return _boost._beta_ppf(q, a, b)\n",
      "/Users/cfanelli/Desktop/teaching/BRDS/jupynb_env_new/lib/python3.9/site-packages/scipy/stats/_continuous_distns.py:624: RuntimeWarning: overflow encountered in _beta_ppf\n",
      "  return _boost._beta_ppf(q, a, b)\n",
      "Sampling 4 chains for 1_000 tune and 1_000 draw iterations (4_000 + 4_000 draws total) took 10 seconds.\n"
     ]
    }
   ],
   "source": [
    "with pm.Model() as model_3: \n",
    "    α = pm.Normal('α', mu=0, sd=10) \n",
    "    β = pm.Normal('β', mu=0, sd=2, shape=len(x_n)) \n",
    "     \n",
    "    μ = α + pm.math.dot(x_3, β) \n",
    "    θ = 1 / (1 + pm.math.exp(-μ)) \n",
    "    bd = pm.Deterministic('bd', -α/β[1] - β[0]/β[1] * x_3[:,0]) \n",
    "     \n",
    "    yl = pm.Bernoulli('yl', p=θ, observed=y_3) \n",
    " \n",
    "    trace_3 = pm.sample(1000, target_accept=0.95)"
   ]
  },
  {
   "cell_type": "code",
   "execution_count": 24,
   "id": "976f39e8",
   "metadata": {},
   "outputs": [
    {
     "name": "stderr",
     "output_type": "stream",
     "text": [
      "/Users/cfanelli/Desktop/teaching/BRDS/jupynb_env_new/lib/python3.9/site-packages/arviz/plots/hdiplot.py:157: FutureWarning: hdi currently interprets 2d data as (draw, shape) but this will change in a future release to (chain, draw) for coherence with other functions\n",
      "  hdi_data = hdi(y, hdi_prob=hdi_prob, circular=circular, multimodal=False, **hdi_kwargs)\n"
     ]
    },
    {
     "data": {
      "text/plain": [
       "Text(0, 0.5, 'sepal_width')"
      ]
     },
     "execution_count": 24,
     "metadata": {},
     "output_type": "execute_result"
    },
    {
     "data": {
      "image/png": "[encoded data removed]",
      "text/plain": [
       "<Figure size 432x288 with 1 Axes>"
      ]
     },
     "metadata": {
      "needs_background": "light"
     },
     "output_type": "display_data"
    }
   ],
   "source": [
    "idx = np.argsort(x_3[:,0]) \n",
    "bd = trace_3['bd'].mean(0)[idx] \n",
    "\n",
    "plt.scatter(x_3[:,0], x_3[:,1], c= [f'C{x}' for x in y_3]) \n",
    "plt.plot(x_3[:,0][idx], bd, color='k')\n",
    "\n",
    "az.plot_hdi(x_3[:,0], trace_3['bd'], color='k')\n",
    "\n",
    "plt.xlabel(x_n[0]) \n",
    "plt.ylabel(x_n[1])"
   ]
  },
  {
   "cell_type": "markdown",
   "id": "a4bfe7a3",
   "metadata": {},
   "source": [
    "<div class=\"alert alert-block alert-info\" style=\"background-color: white; border: 2px solid; padding: 10px\">\n",
    "    <b><i class=\"fa fa-info-circle\" aria-hidden=\"true\"></i>&nbsp; Notes</b><br>\n",
    "    <p style=\"color: black\">\n",
    "        (i) In case of an unbalanced dataset, logistic regression can run into some trouble: the boundary cannot be determined as accurately as when the dataset is more balanced. \n",
    "    </p>\n",
    "    <p style=\"color: black\">\n",
    "        (ii) The decision boundary is \"shifted\" towards the less abundant class, and the uncertainty band is larger.\n",
    "    </p>\n",
    "    <p style=\"color: black\">\n",
    "        (iii) It is always good to have a balanced dataset. If you do have unbalanced data though, you should be careful when you interpret results: check the uncertainty of the model, and run some posterior predictive checks for consistency. Another option is to input more prior information if available and/or run an alternative model.  \n",
    "    </p>    \n",
    "   \n",
    "\n",
    "</div>\n"
   ]
  },
  {
   "cell_type": "markdown",
   "id": "d981ce29",
   "metadata": {},
   "source": [
    "## Generalization to multiple classes: Softmax Regression"
   ]
  },
  {
   "cell_type": "markdown",
   "id": "aa61bd29",
   "metadata": {},
   "source": [
    "<div class=\"alert alert-block alert-info\" style=\"background-color: white; border: 2px solid; padding: 10px\">\n",
    "    <b><i class=\"fa fa-info-circle\" aria-hidden=\"true\"></i>&nbsp; Notes</b><br>\n",
    "    <p style=\"color: black\">\n",
    "        In order to generalize to mutliple classes, two modifications are needed: \n",
    "    </p>  \n",
    "    <p style=\"color: black\">\n",
    "        (i) We use a softmax (see also Boltzmann distribution in physics), which is defined as:\n",
    "    </p>\n",
    "    <br></br>\n",
    "    <center>\n",
    "        $softmax_{i}(\\mu)= \\frac{exp(\\mu_{i})}{\\sum_{k}exp(\\mu_{k})}$ \n",
    "    </center> \n",
    "    <p style=\"color: black\">\n",
    "        (ii) We then replace the Bernoulli distribution with the \n",
    "    <a href=\"https://en.wikipedia.org/wiki/Categorical_distribution\">categorical distribution</a>.\n",
    "    As the Bernoulli (single coin flip) is a special case of a Binomial (n coin flips), the categorical (single roll of a die) is a special case of the <a href=\"https://en.wikipedia.org/wiki/Multinomial_distribution\">multinomial distribution</a> (n rolls of a die).\n",
    "    </p>   \n",
    "\n",
    "</div>\n"
   ]
  },
  {
   "cell_type": "code",
   "execution_count": 80,
   "id": "250279e5",
   "metadata": {},
   "outputs": [
    {
     "name": "stdout",
     "output_type": "stream",
     "text": [
      "(150, 4)\n",
      "[0 0 0 0 0 0 0 0 0 0 0 0 0 0 0 0 0 0 0 0 0 0 0 0 0 0 0 0 0 0 0 0 0 0 0 0 0\n",
      " 0 0 0 0 0 0 0 0 0 0 0 0 0 1 1 1 1 1 1 1 1 1 1 1 1 1 1 1 1 1 1 1 1 1 1 1 1\n",
      " 1 1 1 1 1 1 1 1 1 1 1 1 1 1 1 1 1 1 1 1 1 1 1 1 1 1 2 2 2 2 2 2 2 2 2 2 2\n",
      " 2 2 2 2 2 2 2 2 2 2 2 2 2 2 2 2 2 2 2 2 2 2 2 2 2 2 2 2 2 2 2 2 2 2 2 2 2\n",
      " 2 2]\n",
      "Index(['sepal_length', 'sepal_width', 'petal_length', 'petal_width'], dtype='object')\n",
      "     sepal_length  sepal_width  petal_length  petal_width    species\n",
      "0             5.1          3.5           1.4          0.2     setosa\n",
      "1             4.9          3.0           1.4          0.2     setosa\n",
      "2             4.7          3.2           1.3          0.2     setosa\n",
      "3             4.6          3.1           1.5          0.2     setosa\n",
      "4             5.0          3.6           1.4          0.2     setosa\n",
      "..            ...          ...           ...          ...        ...\n",
      "145           6.7          3.0           5.2          2.3  virginica\n",
      "146           6.3          2.5           5.0          1.9  virginica\n",
      "147           6.5          3.0           5.2          2.0  virginica\n",
      "148           6.2          3.4           5.4          2.3  virginica\n",
      "149           5.9          3.0           5.1          1.8  virginica\n",
      "\n",
      "[150 rows x 5 columns]\n"
     ]
    }
   ],
   "source": [
    "iris = sns.load_dataset('iris')\n",
    "y_s = pd.Categorical(iris['species']).codes\n",
    "x_n = iris.columns[:-1]\n",
    "x_s = iris[x_n].values\n",
    "\n",
    "x_s = (x_s - x_s.mean(axis=0)) / x_s.std(axis=0)\n",
    "\n",
    "print(np.shape(x_s))\n",
    "\n",
    "print(y_s)\n",
    "print(x_n)\n",
    "print(iris)"
   ]
  },
  {
   "cell_type": "code",
   "execution_count": 62,
   "id": "8d9ed80a",
   "metadata": {},
   "outputs": [
    {
     "name": "stderr",
     "output_type": "stream",
     "text": [
      "/Users/cfanelli/Desktop/teaching/BRDS/jupynb_env_new/lib/python3.9/site-packages/deprecat/classic.py:215: FutureWarning: In v4.0, pm.sample will return an `arviz.InferenceData` object instead of a `MultiTrace` by default. You can pass return_inferencedata=True or return_inferencedata=False to be safe and silence this warning.\n",
      "  return wrapped_(*args_, **kwargs_)\n",
      "Auto-assigning NUTS sampler...\n",
      "Initializing NUTS using jitter+adapt_diag...\n",
      "Multiprocess sampling (4 chains in 4 jobs)\n",
      "NUTS: [β, α]\n"
     ]
    },
    {
     "data": {
      "text/html": [
       "\n",
       "<style>\n",
       "    /* Turns off some styling */\n",
       "    progress {\n",
       "        /* gets rid of default border in Firefox and Opera. */\n",
       "        border: none;\n",
       "        /* Needs to be in here for Safari polyfill so background images work as expected. */\n",
       "        background-size: auto;\n",
       "    }\n",
       "    progress:not([value]), progress:not([value])::-webkit-progress-bar {\n",
       "        background: repeating-linear-gradient(45deg, #7e7e7e, #7e7e7e 10px, #5c5c5c 10px, #5c5c5c 20px);\n",
       "    }\n",
       "    .progress-bar-interrupted, .progress-bar-interrupted::-webkit-progress-bar {\n",
       "        background: #F44336;\n",
       "    }\n",
       "</style>\n"
      ],
      "text/plain": [
       "<IPython.core.display.HTML object>"
      ]
     },
     "metadata": {},
     "output_type": "display_data"
    },
    {
     "data": {
      "text/html": [
       "\n",
       "    <div>\n",
       "      <progress value='12000' class='' max='12000' style='width:300px; height:20px; vertical-align: middle;'></progress>\n",
       "      100.00% [12000/12000 00:19&lt;00:00 Sampling 4 chains, 0 divergences]\n",
       "    </div>\n",
       "    "
      ],
      "text/plain": [
       "<IPython.core.display.HTML object>"
      ]
     },
     "metadata": {},
     "output_type": "display_data"
    },
    {
     "name": "stderr",
     "output_type": "stream",
     "text": [
      "/Users/cfanelli/Desktop/teaching/BRDS/jupynb_env_new/lib/python3.9/site-packages/scipy/stats/_continuous_distns.py:624: RuntimeWarning: overflow encountered in _beta_ppf\n",
      "  return _boost._beta_ppf(q, a, b)\n",
      "/Users/cfanelli/Desktop/teaching/BRDS/jupynb_env_new/lib/python3.9/site-packages/scipy/stats/_continuous_distns.py:624: RuntimeWarning: overflow encountered in _beta_ppf\n",
      "  return _boost._beta_ppf(q, a, b)\n",
      "/Users/cfanelli/Desktop/teaching/BRDS/jupynb_env_new/lib/python3.9/site-packages/scipy/stats/_continuous_distns.py:624: RuntimeWarning: overflow encountered in _beta_ppf\n",
      "  return _boost._beta_ppf(q, a, b)\n",
      "/Users/cfanelli/Desktop/teaching/BRDS/jupynb_env_new/lib/python3.9/site-packages/scipy/stats/_continuous_distns.py:624: RuntimeWarning: overflow encountered in _beta_ppf\n",
      "  return _boost._beta_ppf(q, a, b)\n",
      "Sampling 4 chains for 1_000 tune and 2_000 draw iterations (4_000 + 8_000 draws total) took 33 seconds.\n"
     ]
    }
   ],
   "source": [
    "with pm.Model() as model_s:\n",
    "    α = pm.Normal('α', mu=0, sd=5, shape=3)\n",
    "    β = pm.Normal('β', mu=0, sd=5, shape=(4,3))\n",
    "    μ = pm.Deterministic('μ', α + pm.math.dot(x_s, β))\n",
    "    θ = tt.nnet.softmax(μ)\n",
    "    yl = pm.Categorical('yl', p=θ, observed=y_s)\n",
    "    trace_s = pm.sample(2000, target_accept=.95)\n",
    "    idata_s = az.from_pymc3(trace_s)"
   ]
  },
  {
   "cell_type": "code",
   "execution_count": 63,
   "id": "1c7e1c4d",
   "metadata": {},
   "outputs": [
    {
     "name": "stdout",
     "output_type": "stream",
     "text": [
      "accuracy is: 0.980\n"
     ]
    }
   ],
   "source": [
    "data_pred = trace_s['μ'].mean(axis=0)\n",
    "\n",
    "y_pred = [np.exp(point)/np.sum(np.exp(point), axis=0)\n",
    "          for point in data_pred]\n",
    "\n",
    "res_t = np.sum(y_s == np.argmax(y_pred, axis=1)) / len(y_s)\n",
    "print(\"accuracy is: {:1.3f}\".format(res_t))\n"
   ]
  },
  {
   "cell_type": "code",
   "execution_count": 64,
   "id": "bd3265cf",
   "metadata": {},
   "outputs": [],
   "source": [
    "from scipy.special import softmax "
   ]
  },
  {
   "cell_type": "code",
   "execution_count": 65,
   "id": "32eac468",
   "metadata": {},
   "outputs": [
    {
     "name": "stdout",
     "output_type": "stream",
     "text": [
      "accuracy is: 0.980\n"
     ]
    }
   ],
   "source": [
    "y_pred2 = softmax(data_pred, axis=1)\n",
    "res_t2 = np.sum(y_s == np.argmax(y_pred2, axis=1)) / len(y_s)\n",
    "print(\"accuracy is: {:1.3f}\".format(res_t2))"
   ]
  },
  {
   "cell_type": "code",
   "execution_count": 78,
   "id": "57a64211",
   "metadata": {},
   "outputs": [
    {
     "data": {
      "text/html": [
       "<div>\n",
       "<style scoped>\n",
       "    .dataframe tbody tr th:only-of-type {\n",
       "        vertical-align: middle;\n",
       "    }\n",
       "\n",
       "    .dataframe tbody tr th {\n",
       "        vertical-align: top;\n",
       "    }\n",
       "\n",
       "    .dataframe thead th {\n",
       "        text-align: right;\n",
       "    }\n",
       "</style>\n",
       "<table border=\"1\" class=\"dataframe\">\n",
       "  <thead>\n",
       "    <tr style=\"text-align: right;\">\n",
       "      <th></th>\n",
       "      <th>mean</th>\n",
       "      <th>sd</th>\n",
       "      <th>hdi_3%</th>\n",
       "      <th>hdi_97%</th>\n",
       "      <th>mcse_mean</th>\n",
       "      <th>mcse_sd</th>\n",
       "      <th>ess_bulk</th>\n",
       "      <th>ess_tail</th>\n",
       "      <th>r_hat</th>\n",
       "    </tr>\n",
       "  </thead>\n",
       "  <tbody>\n",
       "    <tr>\n",
       "      <th>α[0]</th>\n",
       "      <td>-1.135</td>\n",
       "      <td>3.746</td>\n",
       "      <td>-7.921</td>\n",
       "      <td>6.067</td>\n",
       "      <td>0.048</td>\n",
       "      <td>0.039</td>\n",
       "      <td>6080.0</td>\n",
       "      <td>5193.0</td>\n",
       "      <td>1.0</td>\n",
       "    </tr>\n",
       "    <tr>\n",
       "      <th>α[1]</th>\n",
       "      <td>5.830</td>\n",
       "      <td>3.251</td>\n",
       "      <td>-0.181</td>\n",
       "      <td>11.987</td>\n",
       "      <td>0.044</td>\n",
       "      <td>0.031</td>\n",
       "      <td>5382.0</td>\n",
       "      <td>5418.0</td>\n",
       "      <td>1.0</td>\n",
       "    </tr>\n",
       "    <tr>\n",
       "      <th>α[2]</th>\n",
       "      <td>-4.846</td>\n",
       "      <td>3.421</td>\n",
       "      <td>-11.267</td>\n",
       "      <td>1.436</td>\n",
       "      <td>0.046</td>\n",
       "      <td>0.035</td>\n",
       "      <td>5554.0</td>\n",
       "      <td>5354.0</td>\n",
       "      <td>1.0</td>\n",
       "    </tr>\n",
       "    <tr>\n",
       "      <th>β[0, 0]</th>\n",
       "      <td>-2.604</td>\n",
       "      <td>4.099</td>\n",
       "      <td>-10.736</td>\n",
       "      <td>4.568</td>\n",
       "      <td>0.047</td>\n",
       "      <td>0.041</td>\n",
       "      <td>7711.0</td>\n",
       "      <td>5642.0</td>\n",
       "      <td>1.0</td>\n",
       "    </tr>\n",
       "    <tr>\n",
       "      <th>β[0, 1]</th>\n",
       "      <td>1.985</td>\n",
       "      <td>3.267</td>\n",
       "      <td>-4.214</td>\n",
       "      <td>7.966</td>\n",
       "      <td>0.044</td>\n",
       "      <td>0.034</td>\n",
       "      <td>5404.0</td>\n",
       "      <td>4740.0</td>\n",
       "      <td>1.0</td>\n",
       "    </tr>\n",
       "    <tr>\n",
       "      <th>β[0, 2]</th>\n",
       "      <td>0.640</td>\n",
       "      <td>3.265</td>\n",
       "      <td>-5.464</td>\n",
       "      <td>6.770</td>\n",
       "      <td>0.045</td>\n",
       "      <td>0.036</td>\n",
       "      <td>5341.0</td>\n",
       "      <td>5130.0</td>\n",
       "      <td>1.0</td>\n",
       "    </tr>\n",
       "    <tr>\n",
       "      <th>β[1, 0]</th>\n",
       "      <td>3.186</td>\n",
       "      <td>3.414</td>\n",
       "      <td>-3.514</td>\n",
       "      <td>9.272</td>\n",
       "      <td>0.048</td>\n",
       "      <td>0.034</td>\n",
       "      <td>5167.0</td>\n",
       "      <td>5913.0</td>\n",
       "      <td>1.0</td>\n",
       "    </tr>\n",
       "    <tr>\n",
       "      <th>β[1, 1]</th>\n",
       "      <td>-1.009</td>\n",
       "      <td>3.037</td>\n",
       "      <td>-7.135</td>\n",
       "      <td>4.367</td>\n",
       "      <td>0.045</td>\n",
       "      <td>0.032</td>\n",
       "      <td>4579.0</td>\n",
       "      <td>5063.0</td>\n",
       "      <td>1.0</td>\n",
       "    </tr>\n",
       "    <tr>\n",
       "      <th>β[1, 2]</th>\n",
       "      <td>-2.408</td>\n",
       "      <td>3.057</td>\n",
       "      <td>-8.328</td>\n",
       "      <td>3.168</td>\n",
       "      <td>0.045</td>\n",
       "      <td>0.032</td>\n",
       "      <td>4636.0</td>\n",
       "      <td>5119.0</td>\n",
       "      <td>1.0</td>\n",
       "    </tr>\n",
       "    <tr>\n",
       "      <th>β[2, 0]</th>\n",
       "      <td>-6.333</td>\n",
       "      <td>4.256</td>\n",
       "      <td>-14.192</td>\n",
       "      <td>1.548</td>\n",
       "      <td>0.047</td>\n",
       "      <td>0.036</td>\n",
       "      <td>8195.0</td>\n",
       "      <td>6219.0</td>\n",
       "      <td>1.0</td>\n",
       "    </tr>\n",
       "    <tr>\n",
       "      <th>β[2, 1]</th>\n",
       "      <td>-1.395</td>\n",
       "      <td>3.540</td>\n",
       "      <td>-8.308</td>\n",
       "      <td>5.034</td>\n",
       "      <td>0.042</td>\n",
       "      <td>0.035</td>\n",
       "      <td>7265.0</td>\n",
       "      <td>6032.0</td>\n",
       "      <td>1.0</td>\n",
       "    </tr>\n",
       "    <tr>\n",
       "      <th>β[2, 2]</th>\n",
       "      <td>7.810</td>\n",
       "      <td>3.743</td>\n",
       "      <td>0.967</td>\n",
       "      <td>15.085</td>\n",
       "      <td>0.044</td>\n",
       "      <td>0.032</td>\n",
       "      <td>7166.0</td>\n",
       "      <td>5728.0</td>\n",
       "      <td>1.0</td>\n",
       "    </tr>\n",
       "    <tr>\n",
       "      <th>β[3, 0]</th>\n",
       "      <td>-5.792</td>\n",
       "      <td>4.358</td>\n",
       "      <td>-14.132</td>\n",
       "      <td>2.098</td>\n",
       "      <td>0.051</td>\n",
       "      <td>0.038</td>\n",
       "      <td>7316.0</td>\n",
       "      <td>5879.0</td>\n",
       "      <td>1.0</td>\n",
       "    </tr>\n",
       "    <tr>\n",
       "      <th>β[3, 1]</th>\n",
       "      <td>-1.078</td>\n",
       "      <td>3.558</td>\n",
       "      <td>-7.501</td>\n",
       "      <td>5.823</td>\n",
       "      <td>0.046</td>\n",
       "      <td>0.037</td>\n",
       "      <td>5998.0</td>\n",
       "      <td>5723.0</td>\n",
       "      <td>1.0</td>\n",
       "    </tr>\n",
       "    <tr>\n",
       "      <th>β[3, 2]</th>\n",
       "      <td>6.744</td>\n",
       "      <td>3.683</td>\n",
       "      <td>-0.055</td>\n",
       "      <td>13.745</td>\n",
       "      <td>0.047</td>\n",
       "      <td>0.034</td>\n",
       "      <td>6223.0</td>\n",
       "      <td>5727.0</td>\n",
       "      <td>1.0</td>\n",
       "    </tr>\n",
       "  </tbody>\n",
       "</table>\n",
       "</div>"
      ],
      "text/plain": [
       "          mean     sd  hdi_3%  hdi_97%  mcse_mean  mcse_sd  ess_bulk  \\\n",
       "α[0]    -1.135  3.746  -7.921    6.067      0.048    0.039    6080.0   \n",
       "α[1]     5.830  3.251  -0.181   11.987      0.044    0.031    5382.0   \n",
       "α[2]    -4.846  3.421 -11.267    1.436      0.046    0.035    5554.0   \n",
       "β[0, 0] -2.604  4.099 -10.736    4.568      0.047    0.041    7711.0   \n",
       "β[0, 1]  1.985  3.267  -4.214    7.966      0.044    0.034    5404.0   \n",
       "β[0, 2]  0.640  3.265  -5.464    6.770      0.045    0.036    5341.0   \n",
       "β[1, 0]  3.186  3.414  -3.514    9.272      0.048    0.034    5167.0   \n",
       "β[1, 1] -1.009  3.037  -7.135    4.367      0.045    0.032    4579.0   \n",
       "β[1, 2] -2.408  3.057  -8.328    3.168      0.045    0.032    4636.0   \n",
       "β[2, 0] -6.333  4.256 -14.192    1.548      0.047    0.036    8195.0   \n",
       "β[2, 1] -1.395  3.540  -8.308    5.034      0.042    0.035    7265.0   \n",
       "β[2, 2]  7.810  3.743   0.967   15.085      0.044    0.032    7166.0   \n",
       "β[3, 0] -5.792  4.358 -14.132    2.098      0.051    0.038    7316.0   \n",
       "β[3, 1] -1.078  3.558  -7.501    5.823      0.046    0.037    5998.0   \n",
       "β[3, 2]  6.744  3.683  -0.055   13.745      0.047    0.034    6223.0   \n",
       "\n",
       "         ess_tail  r_hat  \n",
       "α[0]       5193.0    1.0  \n",
       "α[1]       5418.0    1.0  \n",
       "α[2]       5354.0    1.0  \n",
       "β[0, 0]    5642.0    1.0  \n",
       "β[0, 1]    4740.0    1.0  \n",
       "β[0, 2]    5130.0    1.0  \n",
       "β[1, 0]    5913.0    1.0  \n",
       "β[1, 1]    5063.0    1.0  \n",
       "β[1, 2]    5119.0    1.0  \n",
       "β[2, 0]    6219.0    1.0  \n",
       "β[2, 1]    6032.0    1.0  \n",
       "β[2, 2]    5728.0    1.0  \n",
       "β[3, 0]    5879.0    1.0  \n",
       "β[3, 1]    5723.0    1.0  \n",
       "β[3, 2]    5727.0    1.0  "
      ]
     },
     "execution_count": 78,
     "metadata": {},
     "output_type": "execute_result"
    }
   ],
   "source": [
    "az.summary(idata_s).head(15)"
   ]
  },
  {
   "cell_type": "markdown",
   "id": "38c2e3d4",
   "metadata": {},
   "source": [
    "<div class=\"alert alert-block alert-info\" style=\"background-color: white; border: 2px solid; padding: 10px\">\n",
    "    <b><i class=\"fa fa-info-circle\" aria-hidden=\"true\"></i>&nbsp; Notes</b><br>\n",
    "    <p style=\"color: black\">\n",
    "        (i) 98% is the accuracy on our data; \n",
    "        <b>a true test to evaluate the performance of our model will be to check it on data not used to fit the model</b>\n",
    "    </p>    \n",
    "    <p style=\"color: black\"> \n",
    "        (ii) You can check that we obtained a wide posterior. This is a result of the fact softmax normalizes probability to 1. Therefore, when we used priors on the parameters of 4 species, in reality we can \"eliminate\" one species\" from the problem, in that one of them can be calculated from the other 3 once we know their probabilities (again, they have to sum up to 1!)\n",
    "    </p>\n",
    "    <p style=\"color: black\"> \n",
    "        (iii) Below is a suggested solution, that does fix the extra parameters to some value, e.g., zero \n",
    "    </p>\n",
    "    \n",
    "    \n",
    "   \n",
    "\n",
    "</div>"
   ]
  },
  {
   "cell_type": "code",
   "execution_count": 89,
   "id": "3573ce58",
   "metadata": {},
   "outputs": [
    {
     "name": "stderr",
     "output_type": "stream",
     "text": [
      "/Users/cfanelli/Desktop/teaching/BRDS/jupynb_env_new/lib/python3.9/site-packages/deprecat/classic.py:215: FutureWarning: In v4.0, pm.sample will return an `arviz.InferenceData` object instead of a `MultiTrace` by default. You can pass return_inferencedata=True or return_inferencedata=False to be safe and silence this warning.\n",
      "  return wrapped_(*args_, **kwargs_)\n",
      "Auto-assigning NUTS sampler...\n",
      "Initializing NUTS using jitter+adapt_diag...\n",
      "Multiprocess sampling (4 chains in 4 jobs)\n",
      "NUTS: [β, α]\n"
     ]
    },
    {
     "data": {
      "text/html": [
       "\n",
       "<style>\n",
       "    /* Turns off some styling */\n",
       "    progress {\n",
       "        /* gets rid of default border in Firefox and Opera. */\n",
       "        border: none;\n",
       "        /* Needs to be in here for Safari polyfill so background images work as expected. */\n",
       "        background-size: auto;\n",
       "    }\n",
       "    progress:not([value]), progress:not([value])::-webkit-progress-bar {\n",
       "        background: repeating-linear-gradient(45deg, #7e7e7e, #7e7e7e 10px, #5c5c5c 10px, #5c5c5c 20px);\n",
       "    }\n",
       "    .progress-bar-interrupted, .progress-bar-interrupted::-webkit-progress-bar {\n",
       "        background: #F44336;\n",
       "    }\n",
       "</style>\n"
      ],
      "text/plain": [
       "<IPython.core.display.HTML object>"
      ]
     },
     "metadata": {},
     "output_type": "display_data"
    },
    {
     "data": {
      "text/html": [
       "\n",
       "    <div>\n",
       "      <progress value='12000' class='' max='12000' style='width:300px; height:20px; vertical-align: middle;'></progress>\n",
       "      100.00% [12000/12000 00:10&lt;00:00 Sampling 4 chains, 0 divergences]\n",
       "    </div>\n",
       "    "
      ],
      "text/plain": [
       "<IPython.core.display.HTML object>"
      ]
     },
     "metadata": {},
     "output_type": "display_data"
    },
    {
     "name": "stderr",
     "output_type": "stream",
     "text": [
      "/Users/cfanelli/Desktop/teaching/BRDS/jupynb_env_new/lib/python3.9/site-packages/scipy/stats/_continuous_distns.py:624: RuntimeWarning: overflow encountered in _beta_ppf\n",
      "  return _boost._beta_ppf(q, a, b)\n",
      "/Users/cfanelli/Desktop/teaching/BRDS/jupynb_env_new/lib/python3.9/site-packages/scipy/stats/_continuous_distns.py:624: RuntimeWarning: overflow encountered in _beta_ppf\n",
      "  return _boost._beta_ppf(q, a, b)\n",
      "/Users/cfanelli/Desktop/teaching/BRDS/jupynb_env_new/lib/python3.9/site-packages/scipy/stats/_continuous_distns.py:624: RuntimeWarning: overflow encountered in _beta_ppf\n",
      "  return _boost._beta_ppf(q, a, b)\n",
      "/Users/cfanelli/Desktop/teaching/BRDS/jupynb_env_new/lib/python3.9/site-packages/scipy/stats/_continuous_distns.py:624: RuntimeWarning: overflow encountered in _beta_ppf\n",
      "  return _boost._beta_ppf(q, a, b)\n",
      "Sampling 4 chains for 1_000 tune and 2_000 draw iterations (4_000 + 8_000 draws total) took 24 seconds.\n"
     ]
    }
   ],
   "source": [
    "with pm.Model() as model_sf:\n",
    "    α = pm.Normal('α', mu=0, sd=2, shape=2)\n",
    "    β = pm.Normal('β', mu=0, sd=2, shape=(4,2))\n",
    "    α_f = tt.concatenate([[0] ,α])\n",
    "    β_f = tt.concatenate([np.zeros((4,1)) , β], axis=1)\n",
    "    μ = pm.Deterministic('μ', α_f + pm.math.dot(x_s, β_f))\n",
    "    θ = tt.nnet.softmax(μ)\n",
    "    yl = pm.Categorical('yl', p=θ, observed=y_s)\n",
    "    trace_sf = pm.sample(2000, target_accept=.92)\n",
    "    idata_sf = az.from_pymc3(trace_sf)"
   ]
  },
  {
   "cell_type": "code",
   "execution_count": 90,
   "id": "a7df5514",
   "metadata": {},
   "outputs": [
    {
     "name": "stdout",
     "output_type": "stream",
     "text": [
      "accuracy is: 0.973\n"
     ]
    }
   ],
   "source": [
    "data_pred_sf = trace_sf['μ'].mean(axis=0)\n",
    "\n",
    "y_pred_sf = softmax(data_pred_sf, axis=1)\n",
    "res_sf = np.sum(y_s == np.argmax(y_pred_sf, axis=1)) / len(y_s)\n",
    "print(\"accuracy is: {:1.3f}\".format(res_sf))\n"
   ]
  },
  {
   "cell_type": "code",
   "execution_count": 95,
   "id": "fdaf3b4c",
   "metadata": {},
   "outputs": [],
   "source": [
    "#az.summary(idata_sf) --- it will complain as one value of mu is 0 by construction "
   ]
  },
  {
   "cell_type": "code",
   "execution_count": null,
   "id": "adf11cde",
   "metadata": {},
   "outputs": [],
   "source": [
    "cmpd_df = az.compare({'model_s':idata_s, 'model_sf': idata_sf}, method='BB-pseudo-BMA', ic='waic')"
   ]
  },
  {
   "cell_type": "markdown",
   "id": "9852437a",
   "metadata": {},
   "source": [
    "## Final remarks: Robust Logistic Regression (extra, for the curious...)"
   ]
  },
  {
   "cell_type": "markdown",
   "id": "2a5eca01",
   "metadata": {},
   "source": [
    "Let's take the dataset for the species setosa and versicolor only. \n",
    "Let's complicate the problem by assuming the presence of unusual seros and/or ones in our dataset."
   ]
  },
  {
   "cell_type": "code",
   "execution_count": 97,
   "id": "46f49670",
   "metadata": {},
   "outputs": [
    {
     "data": {
      "text/plain": [
       "Text(0.5, 0, 'sepal_length')"
      ]
     },
     "execution_count": 97,
     "metadata": {},
     "output_type": "execute_result"
    },
    {
     "data": {
      "image/png": "[encoded data removed]",
      "text/plain": [
       "<Figure size 432x288 with 1 Axes>"
      ]
     },
     "metadata": {
      "needs_background": "light"
     },
     "output_type": "display_data"
    }
   ],
   "source": [
    "iris = sns.load_dataset(\"iris\") \n",
    "df = iris.query(\"species == ('setosa', 'versicolor')\") \n",
    "y_0 = pd.Categorical(df['species']).codes \n",
    "x_n = 'sepal_length'  \n",
    "x_0 = df[x_n].values \n",
    "y_0 = np.concatenate((y_0, np.ones(6, dtype=int))) \n",
    "x_0 = np.concatenate((x_0, [4.2, 4.5, 4.0, 4.3, 4.2, 4.4])) \n",
    "x_c = x_0 - x_0.mean() \n",
    "plt.plot(x_c, y_0, 'o', color='k');\n",
    "plt.xlabel(x_n)"
   ]
  },
  {
   "cell_type": "markdown",
   "id": "9e439e03",
   "metadata": {},
   "source": [
    "We have some versicolor (category 1) with some unusually short sepal_length... \n",
    "\n",
    "We can fix this with a **mixture model**. We say that the outpu variable comes with $\\pi$ probability of random guessing (0.5 chance for category 1 to be indeed 1), and with 1-$\\pi$ probability from a logistic regression model:\n",
    "\n",
    "$p= \\pi \\ 0.5 + (1-\\pi) \\ logistic(\\alpha+X\\beta)$\n",
    "\n",
    "Notice that when $\\pi=1$, we get $p=0.5$ (random guess), whereas when $\\pi=0$ we get the logistic regression. \n",
    "\n",
    "This model can be implemented with a slight modification of what we saw in mod2_part2. \n",
    "\n",
    "N.B. $\\pi$ is a new variable in our model"
   ]
  },
  {
   "cell_type": "code",
   "execution_count": 101,
   "id": "daec8bbe",
   "metadata": {},
   "outputs": [
    {
     "name": "stderr",
     "output_type": "stream",
     "text": [
      "Auto-assigning NUTS sampler...\n",
      "Initializing NUTS using jitter+adapt_diag...\n",
      "Multiprocess sampling (4 chains in 4 jobs)\n",
      "NUTS: [π, β, α]\n"
     ]
    },
    {
     "data": {
      "text/html": [
       "\n",
       "<style>\n",
       "    /* Turns off some styling */\n",
       "    progress {\n",
       "        /* gets rid of default border in Firefox and Opera. */\n",
       "        border: none;\n",
       "        /* Needs to be in here for Safari polyfill so background images work as expected. */\n",
       "        background-size: auto;\n",
       "    }\n",
       "    progress:not([value]), progress:not([value])::-webkit-progress-bar {\n",
       "        background: repeating-linear-gradient(45deg, #7e7e7e, #7e7e7e 10px, #5c5c5c 10px, #5c5c5c 20px);\n",
       "    }\n",
       "    .progress-bar-interrupted, .progress-bar-interrupted::-webkit-progress-bar {\n",
       "        background: #F44336;\n",
       "    }\n",
       "</style>\n"
      ],
      "text/plain": [
       "<IPython.core.display.HTML object>"
      ]
     },
     "metadata": {},
     "output_type": "display_data"
    },
    {
     "data": {
      "text/html": [
       "\n",
       "    <div>\n",
       "      <progress value='16000' class='' max='16000' style='width:300px; height:20px; vertical-align: middle;'></progress>\n",
       "      100.00% [16000/16000 00:02&lt;00:00 Sampling 4 chains, 1 divergences]\n",
       "    </div>\n",
       "    "
      ],
      "text/plain": [
       "<IPython.core.display.HTML object>"
      ]
     },
     "metadata": {},
     "output_type": "display_data"
    },
    {
     "name": "stderr",
     "output_type": "stream",
     "text": [
      "/Users/cfanelli/Desktop/teaching/BRDS/jupynb_env_new/lib/python3.9/site-packages/scipy/stats/_continuous_distns.py:624: RuntimeWarning: overflow encountered in _beta_ppf\n",
      "  return _boost._beta_ppf(q, a, b)\n",
      "/Users/cfanelli/Desktop/teaching/BRDS/jupynb_env_new/lib/python3.9/site-packages/scipy/stats/_continuous_distns.py:624: RuntimeWarning: overflow encountered in _beta_ppf\n",
      "  return _boost._beta_ppf(q, a, b)\n",
      "/Users/cfanelli/Desktop/teaching/BRDS/jupynb_env_new/lib/python3.9/site-packages/scipy/stats/_continuous_distns.py:624: RuntimeWarning: overflow encountered in _beta_ppf\n",
      "  return _boost._beta_ppf(q, a, b)\n",
      "/Users/cfanelli/Desktop/teaching/BRDS/jupynb_env_new/lib/python3.9/site-packages/scipy/stats/_continuous_distns.py:624: RuntimeWarning: overflow encountered in _beta_ppf\n",
      "  return _boost._beta_ppf(q, a, b)\n",
      "Sampling 4 chains for 2_000 tune and 2_000 draw iterations (8_000 + 8_000 draws total) took 8 seconds.\n",
      "There was 1 divergence after tuning. Increase `target_accept` or reparameterize.\n"
     ]
    }
   ],
   "source": [
    "with pm.Model() as model_rlg:\n",
    "    α = pm.Normal('α', mu=0, sd=10)\n",
    "    β = pm.Normal('β', mu=0, sd=10)\n",
    "    \n",
    "    μ = α + x_c *  β  \n",
    "    θ = pm.Deterministic('θ', pm.math.sigmoid(μ))\n",
    "    bd = pm.Deterministic('bd', -α/β)\n",
    "    \n",
    "    π = pm.Beta('π', 1., 1.) \n",
    "    p = π * 0.5 + (1 - π) * θ \n",
    "    \n",
    "    yl = pm.Bernoulli('yl', p=p, observed=y_0)\n",
    "\n",
    "    trace_rlg = pm.sample(2000, target_accept=0.95,  tune = 2000, return_inferencedata=True)"
   ]
  },
  {
   "cell_type": "code",
   "execution_count": 102,
   "id": "7b37f4b3",
   "metadata": {},
   "outputs": [
    {
     "data": {
      "text/plain": [
       "([<matplotlib.axis.XTick at 0x2b1dc96a0>,\n",
       "  <matplotlib.axis.XTick at 0x2b1dc9610>,\n",
       "  <matplotlib.axis.XTick at 0x2a727b760>,\n",
       "  <matplotlib.axis.XTick at 0x296a8e1f0>,\n",
       "  <matplotlib.axis.XTick at 0x2a7265820>,\n",
       "  <matplotlib.axis.XTick at 0x2a4abac40>,\n",
       "  <matplotlib.axis.XTick at 0x2adcbd160>,\n",
       "  <matplotlib.axis.XTick at 0x296a44fd0>,\n",
       "  <matplotlib.axis.XTick at 0x2aad9d1c0>],\n",
       " [Text(-2.0, 0, '3.4'),\n",
       "  Text(-1.5, 0, '3.9'),\n",
       "  Text(-1.0, 0, '4.4'),\n",
       "  Text(-0.5, 0, '4.9'),\n",
       "  Text(0.0, 0, '5.4'),\n",
       "  Text(0.5, 0, '5.9'),\n",
       "  Text(1.0, 0, '6.4'),\n",
       "  Text(1.5, 0, '6.9'),\n",
       "  Text(2.0, 0, '7.4')])"
      ]
     },
     "execution_count": 102,
     "metadata": {},
     "output_type": "execute_result"
    },
    {
     "data": {
      "image/png": "[encoded data removed]",
      "text/plain": [
       "<Figure size 432x288 with 1 Axes>"
      ]
     },
     "metadata": {
      "needs_background": "light"
     },
     "output_type": "display_data"
    }
   ],
   "source": [
    "theta = trace_rlg.posterior['θ'].mean(axis=0).mean(axis=0)\n",
    "idx = np.argsort(x_c)\n",
    "\n",
    "np.random.seed(123)\n",
    "\n",
    "\n",
    "plt.plot(x_c[idx], theta[idx], color='C2', lw=3)\n",
    "\n",
    "plt.vlines(trace_rlg.posterior['bd'].mean(), 0, 1, color='k')\n",
    "\n",
    "bd_hpd = az.hdi(trace_rlg.posterior['bd'])\n",
    "\n",
    "\n",
    "plt.fill_betweenx([0, 1], bd_hpd.bd[0].values, bd_hpd.bd[1].values, color='k', alpha=0.5)\n",
    "\n",
    "\n",
    "plt.scatter(x_c, np.random.normal(y_0, 0.02),\n",
    "            marker='.', color=[f'C{x}' for x in y_0])\n",
    "\n",
    "\n",
    "az.plot_hdi(x_c, trace_rlg.posterior['θ'], color='C2')  #green band \n",
    "\n",
    "\n",
    "plt.xlabel(x_n)\n",
    "plt.ylabel('θ', rotation=0)\n",
    "# use original scale for xticks\n",
    "locs, _ = plt.xticks()\n",
    "plt.xticks(locs, np.round(locs + x_0.mean(), 1))"
   ]
  },
  {
   "cell_type": "code",
   "execution_count": null,
   "id": "d28aaf11",
   "metadata": {},
   "outputs": [],
   "source": []
  }
 ],
 "metadata": {
  "kernelspec": {
   "display_name": "jupynb_env_new",
   "language": "python",
   "name": "jupynb_env_new"
  },
  "language_info": {
   "codemirror_mode": {
    "name": "ipython",
    "version": 3
   },
   "file_extension": ".py",
   "mimetype": "text/x-python",
   "name": "python",
   "nbconvert_exporter": "python",
   "pygments_lexer": "ipython3",
   "version": "3.9.6"
  }
 },
 "nbformat": 4,
 "nbformat_minor": 5
}
